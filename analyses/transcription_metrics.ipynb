{
 "cells": [
  {
   "cell_type": "code",
   "execution_count": 26,
   "metadata": {
    "collapsed": true,
    "ExecuteTime": {
     "end_time": "2024-03-07T11:57:42.709738Z",
     "start_time": "2024-03-07T11:57:42.321247Z"
    }
   },
   "outputs": [],
   "source": [
    "import numpy as np\n",
    "import pandas as pd\n",
    "import os, re, glob\n",
    "from itertools import chain\n",
    "import matplotlib.pyplot as plt\n",
    "import jiwer\n",
    "\n",
    "from util.helpers import create_directory\n",
    "\n",
    "\n",
    "from config.constants import Constants\n",
    "CONSTANTS = Constants(local=True)\n"
   ]
  },
  {
   "cell_type": "markdown",
   "source": [
    "## Get mapping of sample name to label -> for group-wise analysis later"
   ],
   "metadata": {
    "collapsed": false
   }
  },
  {
   "cell_type": "code",
   "execution_count": 27,
   "outputs": [
    {
     "name": "stdout",
     "output_type": "stream",
     "text": [
      "Initializing dataloader ADReSS audio\n",
      "Loading data using dataloader ADReSS audio\n"
     ]
    },
    {
     "data": {
      "text/plain": "                                       audio_file_path  basename  label  \\\n0    /Users/jheitz/phd/data/dementiabank_extracted/...  S143.wav      1   \n1    /Users/jheitz/phd/data/dementiabank_extracted/...  S156.wav      1   \n2    /Users/jheitz/phd/data/dementiabank_extracted/...  S142.wav      1   \n3    /Users/jheitz/phd/data/dementiabank_extracted/...  S154.wav      1   \n4    /Users/jheitz/phd/data/dementiabank_extracted/...  S140.wav      1   \n..                                                 ...       ...    ...   \n151  /Users/jheitz/phd/data/dementiabank_extracted/...  S203.wav      1   \n152  /Users/jheitz/phd/data/dementiabank_extracted/...  S204.wav      0   \n153  /Users/jheitz/phd/data/dementiabank_extracted/...  S205.wav      1   \n154  /Users/jheitz/phd/data/dementiabank_extracted/...  S206.wav      0   \n155  /Users/jheitz/phd/data/dementiabank_extracted/...  S207.wav      0   \n\n    sample_name  \n0          S143  \n1          S156  \n2          S142  \n3          S154  \n4          S140  \n..          ...  \n151        S203  \n152        S204  \n153        S205  \n154        S206  \n155        S207  \n\n[156 rows x 4 columns]",
      "text/html": "<div>\n<style scoped>\n    .dataframe tbody tr th:only-of-type {\n        vertical-align: middle;\n    }\n\n    .dataframe tbody tr th {\n        vertical-align: top;\n    }\n\n    .dataframe thead th {\n        text-align: right;\n    }\n</style>\n<table border=\"1\" class=\"dataframe\">\n  <thead>\n    <tr style=\"text-align: right;\">\n      <th></th>\n      <th>audio_file_path</th>\n      <th>basename</th>\n      <th>label</th>\n      <th>sample_name</th>\n    </tr>\n  </thead>\n  <tbody>\n    <tr>\n      <th>0</th>\n      <td>/Users/jheitz/phd/data/dementiabank_extracted/...</td>\n      <td>S143.wav</td>\n      <td>1</td>\n      <td>S143</td>\n    </tr>\n    <tr>\n      <th>1</th>\n      <td>/Users/jheitz/phd/data/dementiabank_extracted/...</td>\n      <td>S156.wav</td>\n      <td>1</td>\n      <td>S156</td>\n    </tr>\n    <tr>\n      <th>2</th>\n      <td>/Users/jheitz/phd/data/dementiabank_extracted/...</td>\n      <td>S142.wav</td>\n      <td>1</td>\n      <td>S142</td>\n    </tr>\n    <tr>\n      <th>3</th>\n      <td>/Users/jheitz/phd/data/dementiabank_extracted/...</td>\n      <td>S154.wav</td>\n      <td>1</td>\n      <td>S154</td>\n    </tr>\n    <tr>\n      <th>4</th>\n      <td>/Users/jheitz/phd/data/dementiabank_extracted/...</td>\n      <td>S140.wav</td>\n      <td>1</td>\n      <td>S140</td>\n    </tr>\n    <tr>\n      <th>...</th>\n      <td>...</td>\n      <td>...</td>\n      <td>...</td>\n      <td>...</td>\n    </tr>\n    <tr>\n      <th>151</th>\n      <td>/Users/jheitz/phd/data/dementiabank_extracted/...</td>\n      <td>S203.wav</td>\n      <td>1</td>\n      <td>S203</td>\n    </tr>\n    <tr>\n      <th>152</th>\n      <td>/Users/jheitz/phd/data/dementiabank_extracted/...</td>\n      <td>S204.wav</td>\n      <td>0</td>\n      <td>S204</td>\n    </tr>\n    <tr>\n      <th>153</th>\n      <td>/Users/jheitz/phd/data/dementiabank_extracted/...</td>\n      <td>S205.wav</td>\n      <td>1</td>\n      <td>S205</td>\n    </tr>\n    <tr>\n      <th>154</th>\n      <td>/Users/jheitz/phd/data/dementiabank_extracted/...</td>\n      <td>S206.wav</td>\n      <td>0</td>\n      <td>S206</td>\n    </tr>\n    <tr>\n      <th>155</th>\n      <td>/Users/jheitz/phd/data/dementiabank_extracted/...</td>\n      <td>S207.wav</td>\n      <td>0</td>\n      <td>S207</td>\n    </tr>\n  </tbody>\n</table>\n<p>156 rows × 4 columns</p>\n</div>"
     },
     "execution_count": 27,
     "metadata": {},
     "output_type": "execute_result"
    }
   ],
   "source": [
    "def get_metadata_from_file_path(file_path):\n",
    "    metadata = {}\n",
    "\n",
    "    # train or test\n",
    "    try:\n",
    "        split = re.match(r\".*/(train|test|test-dist)/.*\", file_path).group(1)\n",
    "        metadata[\"split\"] = split\n",
    "    except:\n",
    "        metadata[\"split\"] = None\n",
    "\n",
    "    # dementia or control\n",
    "    try:\n",
    "        group = re.match(r\".*/(cd|cc|ad)/.*\", file_path).group(1)\n",
    "        metadata[\"group\"] = group\n",
    "    except:\n",
    "        metadata[\"group\"] = None\n",
    "\n",
    "    metadata['file'] = os.path.basename(file_path)\n",
    "\n",
    "    return metadata\n",
    "\n",
    "def get_mapping():\n",
    "    from dataloader.dataloader import ADReSSDataLoader\n",
    "    dataloader = ADReSSDataLoader(local=True)\n",
    "    manual_train, manual_test = dataloader.load_data()\n",
    "    mapping = pd.DataFrame({'audio_file_path': np.concatenate((manual_train.data, manual_test.data)),\n",
    "                            'basename':\n",
    "                                [get_metadata_from_file_path(path)['file'] for path in manual_train.data] +\n",
    "                                [get_metadata_from_file_path(path)['file'] for path in manual_test.data],\n",
    "                            'label': np.concatenate((manual_train.labels, manual_test.labels))\n",
    "                            })\n",
    "\n",
    "    mapping['sample_name'] = mapping['basename'].apply(lambda row: row[:row.index(\".\")])\n",
    "    return mapping\n",
    "\n",
    "mapping = get_mapping()\n",
    "mapping"
   ],
   "metadata": {
    "collapsed": false,
    "ExecuteTime": {
     "end_time": "2024-03-07T11:57:42.738505Z",
     "start_time": "2024-03-07T11:57:42.714575Z"
    }
   }
  },
  {
   "cell_type": "markdown",
   "source": [
    "## Load preprocessed manual transcripts\n"
   ],
   "metadata": {
    "collapsed": false
   }
  },
  {
   "cell_type": "code",
   "execution_count": 28,
   "outputs": [
    {
     "data": {
      "text/plain": "         file sample_name                                             manual\n0    S180.txt        S180  well the boy is taking cookies out of the cook...\n1    S187.txt        S187  hm it's a little boy climbing up getting some ...\n2    S189.txt        S189  alright . uh the little girl s wants cookie . ...\n3    S201.txt        S201  well the boy is getting cookies and he's gonna...\n4    S206.txt        S206  well for one thing the boy is stealing cookies...\n..        ...         ...                                                ...\n151  S055.txt        S055  the boy's uh the girl's making fun of the boy ...\n152  S029.txt        S029  action . alright . a lady's drying dishes . th...\n153  S067.txt        S067  okay . the boy is taking cookies out of a clos...\n154  S015.txt        S015  all of the action you see going on . okay . th...\n155  S012.txt        S012  okay . uh the mother is wiping a dish at the s...\n\n[156 rows x 3 columns]",
      "text/html": "<div>\n<style scoped>\n    .dataframe tbody tr th:only-of-type {\n        vertical-align: middle;\n    }\n\n    .dataframe tbody tr th {\n        vertical-align: top;\n    }\n\n    .dataframe thead th {\n        text-align: right;\n    }\n</style>\n<table border=\"1\" class=\"dataframe\">\n  <thead>\n    <tr style=\"text-align: right;\">\n      <th></th>\n      <th>file</th>\n      <th>sample_name</th>\n      <th>manual</th>\n    </tr>\n  </thead>\n  <tbody>\n    <tr>\n      <th>0</th>\n      <td>S180.txt</td>\n      <td>S180</td>\n      <td>well the boy is taking cookies out of the cook...</td>\n    </tr>\n    <tr>\n      <th>1</th>\n      <td>S187.txt</td>\n      <td>S187</td>\n      <td>hm it's a little boy climbing up getting some ...</td>\n    </tr>\n    <tr>\n      <th>2</th>\n      <td>S189.txt</td>\n      <td>S189</td>\n      <td>alright . uh the little girl s wants cookie . ...</td>\n    </tr>\n    <tr>\n      <th>3</th>\n      <td>S201.txt</td>\n      <td>S201</td>\n      <td>well the boy is getting cookies and he's gonna...</td>\n    </tr>\n    <tr>\n      <th>4</th>\n      <td>S206.txt</td>\n      <td>S206</td>\n      <td>well for one thing the boy is stealing cookies...</td>\n    </tr>\n    <tr>\n      <th>...</th>\n      <td>...</td>\n      <td>...</td>\n      <td>...</td>\n    </tr>\n    <tr>\n      <th>151</th>\n      <td>S055.txt</td>\n      <td>S055</td>\n      <td>the boy's uh the girl's making fun of the boy ...</td>\n    </tr>\n    <tr>\n      <th>152</th>\n      <td>S029.txt</td>\n      <td>S029</td>\n      <td>action . alright . a lady's drying dishes . th...</td>\n    </tr>\n    <tr>\n      <th>153</th>\n      <td>S067.txt</td>\n      <td>S067</td>\n      <td>okay . the boy is taking cookies out of a clos...</td>\n    </tr>\n    <tr>\n      <th>154</th>\n      <td>S015.txt</td>\n      <td>S015</td>\n      <td>all of the action you see going on . okay . th...</td>\n    </tr>\n    <tr>\n      <th>155</th>\n      <td>S012.txt</td>\n      <td>S012</td>\n      <td>okay . uh the mother is wiping a dish at the s...</td>\n    </tr>\n  </tbody>\n</table>\n<p>156 rows × 3 columns</p>\n</div>"
     },
     "execution_count": 28,
     "metadata": {},
     "output_type": "execute_result"
    }
   ],
   "source": [
    "\n",
    "def get_manual_transcriptions():\n",
    "    transcriptions = []\n",
    "\n",
    "    # Traverse the directory and its subdirectories\n",
    "    # e92f43 = {'only_PAR': False, 'keep_pauses': False, 'keep_terminators': True, 'keep_unintelligable_speech': False, 'runtime': '2023-09-20 15:20'}\n",
    "    # 4f7384 = {'only_PAR': True, 'keep_pauses': False, 'keep_terminators': True, 'keep_unintelligable_speech': False, 'runtime': '2023-09-20 15:19'}\n",
    "    for root, dirs, files in os.walk('/Volumes/methlab/Students/Jonathan/data_preprocessed/transcriptions/manual/_raw_ADReSS_manual_transcripts/4f7384'):\n",
    "        # Filter the files for .txt extension\n",
    "        txt_files = glob.glob(os.path.join(root, '*.txt'))\n",
    "\n",
    "        # Read the content of each .txt file\n",
    "        for file_path in txt_files:\n",
    "            metadata = get_metadata_from_file_path(file_path)\n",
    "            with open(file_path, 'r') as file:\n",
    "                content = file.read()\n",
    "                path = os.path.basename(file_path)\n",
    "                sample_name = path[:path.index(\".\")]\n",
    "                if sample_name != \"info\":\n",
    "                    transcriptions.append(pd.Series({'file': path, 'sample_name': sample_name, 'manual': content}))\n",
    "\n",
    "    return pd.concat(transcriptions, axis=1).T\n",
    "\n",
    "manual = get_manual_transcriptions()\n",
    "manual"
   ],
   "metadata": {
    "collapsed": false,
    "ExecuteTime": {
     "end_time": "2024-03-07T11:57:49.761854Z",
     "start_time": "2024-03-07T11:57:44.106009Z"
    }
   }
  },
  {
   "cell_type": "markdown",
   "source": [
    "## Load different ASR transcriptions"
   ],
   "metadata": {
    "collapsed": false
   }
  },
  {
   "cell_type": "code",
   "execution_count": 29,
   "outputs": [],
   "source": [
    "def get_ASR_transcriptions(base_dirs, manual, version_name):\n",
    "    transcriptions = []\n",
    "\n",
    "    # Traverse the directory and its subdirectories\n",
    "    for root, dirs, files in chain.from_iterable(os.walk(d) for d in base_dirs):\n",
    "        # Filter the files for .txt extension\n",
    "        txt_files = glob.glob(os.path.join(root, '*.txt'))\n",
    "        #print(sorted([os.path.basename(f) for f in txt_files]), len([os.path.basename(f) for f in txt_files]))\n",
    "\n",
    "        # Read the content of each .txt file\n",
    "        for file_path in txt_files:\n",
    "\n",
    "            with open(file_path, 'r') as file:\n",
    "                metadata = get_metadata_from_file_path(file_path)\n",
    "                content = file.read()\n",
    "                try:\n",
    "                    # remove metadata at beginning of file by splitting by double line break and taking the second part, if available\n",
    "                    content = content[content.index(\"\\n\\n\")+2:]\n",
    "                except:\n",
    "                    pass\n",
    "                # remove punctuation\n",
    "                content = re.sub(r\"[.,?!]\", \"\", content)\n",
    "                # normalize white spaces\n",
    "                content = re.sub(r\"\\s+\", \" \", content).strip()\n",
    "                content = content.lower()\n",
    "                path = os.path.basename(file_path)\n",
    "                sample_name = path[:path.index(\".\")]\n",
    "                if sample_name != \"info\":\n",
    "                    transcriptions.append(pd.Series({'file': path, 'sample_name': sample_name, 'transcript': content, 'version': version_name}))\n",
    "\n",
    "    concat = pd.concat(transcriptions, axis=1).T\n",
    "    return concat.merge(manual.drop(columns=[\"file\"]), on=\"sample_name\", how=\"outer\")\n"
   ],
   "metadata": {
    "collapsed": false,
    "ExecuteTime": {
     "end_time": "2024-03-07T11:57:49.769349Z",
     "start_time": "2024-03-07T11:57:49.765021Z"
    }
   }
  },
  {
   "cell_type": "code",
   "execution_count": 30,
   "outputs": [
    {
     "data": {
      "text/plain": "         file sample_name                                         transcript  \\\n0    S194.txt        S194  well the mother has water spilling all over th...   \n1    S193.txt        S193  okay the kid on the bench who's got his hand i...   \n2    S177.txt        S177  cookie jar uh a lad standing on a stool teteri...   \n3    S170.txt        S170  this woman is saying what she dish is standing...   \n4    S179.txt        S179  see it's running over well yeah here's some si...   \n..        ...         ...                                                ...   \n151  S125.txt        S125                                                      \n152  S122.txt        S122  oh sure the little girl standing in the kitche...   \n153  S110.txt        S110  now honey i had was in the kitchen and i was t...   \n154  S097.txt        S097  an average home that looks very much like ours...   \n155  S090.txt        S090  see part of the old kitchen is that old kitche...   \n\n    version                                             manual  \n0    google  well the mother has water spilling all over th...  \n1    google  okay the kid on the bench who's got his hand i...  \n2    google  cookie jar . uh a lad standing on a stool teet...  \n3    google  I s see this woman who's standing by the sink ...  \n4    google  well the table the seat is falling . the sink ...  \n..      ...                                                ...  \n151  google  mhm . oh . there's a cookie jar . and the boy ...  \n152  google  oh sure . the little girl's standing in the ki...  \n153  google  now honey I w l l ha w had it was in the kitch...  \n154  google  an average home that looks very much like ours...  \n155  google  mhm . oh I see a part of the whole kitchen . i...  \n\n[156 rows x 5 columns]",
      "text/html": "<div>\n<style scoped>\n    .dataframe tbody tr th:only-of-type {\n        vertical-align: middle;\n    }\n\n    .dataframe tbody tr th {\n        vertical-align: top;\n    }\n\n    .dataframe thead th {\n        text-align: right;\n    }\n</style>\n<table border=\"1\" class=\"dataframe\">\n  <thead>\n    <tr style=\"text-align: right;\">\n      <th></th>\n      <th>file</th>\n      <th>sample_name</th>\n      <th>transcript</th>\n      <th>version</th>\n      <th>manual</th>\n    </tr>\n  </thead>\n  <tbody>\n    <tr>\n      <th>0</th>\n      <td>S194.txt</td>\n      <td>S194</td>\n      <td>well the mother has water spilling all over th...</td>\n      <td>google</td>\n      <td>well the mother has water spilling all over th...</td>\n    </tr>\n    <tr>\n      <th>1</th>\n      <td>S193.txt</td>\n      <td>S193</td>\n      <td>okay the kid on the bench who's got his hand i...</td>\n      <td>google</td>\n      <td>okay the kid on the bench who's got his hand i...</td>\n    </tr>\n    <tr>\n      <th>2</th>\n      <td>S177.txt</td>\n      <td>S177</td>\n      <td>cookie jar uh a lad standing on a stool teteri...</td>\n      <td>google</td>\n      <td>cookie jar . uh a lad standing on a stool teet...</td>\n    </tr>\n    <tr>\n      <th>3</th>\n      <td>S170.txt</td>\n      <td>S170</td>\n      <td>this woman is saying what she dish is standing...</td>\n      <td>google</td>\n      <td>I s see this woman who's standing by the sink ...</td>\n    </tr>\n    <tr>\n      <th>4</th>\n      <td>S179.txt</td>\n      <td>S179</td>\n      <td>see it's running over well yeah here's some si...</td>\n      <td>google</td>\n      <td>well the table the seat is falling . the sink ...</td>\n    </tr>\n    <tr>\n      <th>...</th>\n      <td>...</td>\n      <td>...</td>\n      <td>...</td>\n      <td>...</td>\n      <td>...</td>\n    </tr>\n    <tr>\n      <th>151</th>\n      <td>S125.txt</td>\n      <td>S125</td>\n      <td></td>\n      <td>google</td>\n      <td>mhm . oh . there's a cookie jar . and the boy ...</td>\n    </tr>\n    <tr>\n      <th>152</th>\n      <td>S122.txt</td>\n      <td>S122</td>\n      <td>oh sure the little girl standing in the kitche...</td>\n      <td>google</td>\n      <td>oh sure . the little girl's standing in the ki...</td>\n    </tr>\n    <tr>\n      <th>153</th>\n      <td>S110.txt</td>\n      <td>S110</td>\n      <td>now honey i had was in the kitchen and i was t...</td>\n      <td>google</td>\n      <td>now honey I w l l ha w had it was in the kitch...</td>\n    </tr>\n    <tr>\n      <th>154</th>\n      <td>S097.txt</td>\n      <td>S097</td>\n      <td>an average home that looks very much like ours...</td>\n      <td>google</td>\n      <td>an average home that looks very much like ours...</td>\n    </tr>\n    <tr>\n      <th>155</th>\n      <td>S090.txt</td>\n      <td>S090</td>\n      <td>see part of the old kitchen is that old kitche...</td>\n      <td>google</td>\n      <td>mhm . oh I see a part of the whole kitchen . i...</td>\n    </tr>\n  </tbody>\n</table>\n<p>156 rows × 5 columns</p>\n</div>"
     },
     "execution_count": 30,
     "metadata": {},
     "output_type": "execute_result"
    }
   ],
   "source": [
    "# Load Google Speech\n",
    "google = get_ASR_transcriptions([f'/Volumes/methlab/Students/Jonathan/data_preprocessed/transcriptions/google_speech/v1_9ae494/{d}' for d in ['_raw_ADReSS_audio_test_-_Audio_Cutter', '_raw_ADReSS_audio_train_-_Audio_Cutter']], manual, \"google\")\n",
    "google"
   ],
   "metadata": {
    "collapsed": false,
    "ExecuteTime": {
     "end_time": "2024-03-07T11:57:55.663699Z",
     "start_time": "2024-03-07T11:57:49.768121Z"
    }
   }
  },
  {
   "cell_type": "code",
   "execution_count": 31,
   "outputs": [
    {
     "data": {
      "text/plain": "         file sample_name                                         transcript  \\\n0    S174.txt        S174  i see a little boy on a stool almost falling o...   \n1    S173.txt        S173  a little boy is getting himself some cookies o...   \n2    S199.txt        S199  the two children are in the process of stealin...   \n3    S197.txt        S197  okay anywhere the little girl's laughing the l...   \n4    S190.txt        S190  i get that andgeraldis drying those dishes rig...   \n..        ...         ...                                                ...   \n151  S080.txt        S080                                               okay   \n152  S087.txt        S087  elaine and her children the father isn't comin...   \n153  S100.txt        S100  okay there's a cook a boy is taking cookies an...   \n154  S089.txt        S089  she was upset what's going on over in this are...   \n155  S107.txt        S107  what's happening there i'm going to be here ye...   \n\n     version                                             manual  \n0    whisper  I see a little boy on a stool almost falling o...  \n1    whisper  a little boy is getting himself some cookies o...  \n2    whisper  there's um the two children are in the process...  \n3    whisper  okay . anywhere ? um the little girl's laughin...  \n4    whisper  um the girl's in the trying hm did I get that ...  \n..       ...                                                ...  \n151  whisper  okay he's falling off a chair . she's uh runni...  \n152  whisper  hm a lady a lady and her children . children ....  \n153  whisper  okay . uh there's a cook a b a boy's a boy is ...  \n154  whisper  so she will find her . and the mother washes d...  \n155  whisper  boy in the cookie jar . boy in a cookie jar . ...  \n\n[156 rows x 5 columns]",
      "text/html": "<div>\n<style scoped>\n    .dataframe tbody tr th:only-of-type {\n        vertical-align: middle;\n    }\n\n    .dataframe tbody tr th {\n        vertical-align: top;\n    }\n\n    .dataframe thead th {\n        text-align: right;\n    }\n</style>\n<table border=\"1\" class=\"dataframe\">\n  <thead>\n    <tr style=\"text-align: right;\">\n      <th></th>\n      <th>file</th>\n      <th>sample_name</th>\n      <th>transcript</th>\n      <th>version</th>\n      <th>manual</th>\n    </tr>\n  </thead>\n  <tbody>\n    <tr>\n      <th>0</th>\n      <td>S174.txt</td>\n      <td>S174</td>\n      <td>i see a little boy on a stool almost falling o...</td>\n      <td>whisper</td>\n      <td>I see a little boy on a stool almost falling o...</td>\n    </tr>\n    <tr>\n      <th>1</th>\n      <td>S173.txt</td>\n      <td>S173</td>\n      <td>a little boy is getting himself some cookies o...</td>\n      <td>whisper</td>\n      <td>a little boy is getting himself some cookies o...</td>\n    </tr>\n    <tr>\n      <th>2</th>\n      <td>S199.txt</td>\n      <td>S199</td>\n      <td>the two children are in the process of stealin...</td>\n      <td>whisper</td>\n      <td>there's um the two children are in the process...</td>\n    </tr>\n    <tr>\n      <th>3</th>\n      <td>S197.txt</td>\n      <td>S197</td>\n      <td>okay anywhere the little girl's laughing the l...</td>\n      <td>whisper</td>\n      <td>okay . anywhere ? um the little girl's laughin...</td>\n    </tr>\n    <tr>\n      <th>4</th>\n      <td>S190.txt</td>\n      <td>S190</td>\n      <td>i get that andgeraldis drying those dishes rig...</td>\n      <td>whisper</td>\n      <td>um the girl's in the trying hm did I get that ...</td>\n    </tr>\n    <tr>\n      <th>...</th>\n      <td>...</td>\n      <td>...</td>\n      <td>...</td>\n      <td>...</td>\n      <td>...</td>\n    </tr>\n    <tr>\n      <th>151</th>\n      <td>S080.txt</td>\n      <td>S080</td>\n      <td>okay</td>\n      <td>whisper</td>\n      <td>okay he's falling off a chair . she's uh runni...</td>\n    </tr>\n    <tr>\n      <th>152</th>\n      <td>S087.txt</td>\n      <td>S087</td>\n      <td>elaine and her children the father isn't comin...</td>\n      <td>whisper</td>\n      <td>hm a lady a lady and her children . children ....</td>\n    </tr>\n    <tr>\n      <th>153</th>\n      <td>S100.txt</td>\n      <td>S100</td>\n      <td>okay there's a cook a boy is taking cookies an...</td>\n      <td>whisper</td>\n      <td>okay . uh there's a cook a b a boy's a boy is ...</td>\n    </tr>\n    <tr>\n      <th>154</th>\n      <td>S089.txt</td>\n      <td>S089</td>\n      <td>she was upset what's going on over in this are...</td>\n      <td>whisper</td>\n      <td>so she will find her . and the mother washes d...</td>\n    </tr>\n    <tr>\n      <th>155</th>\n      <td>S107.txt</td>\n      <td>S107</td>\n      <td>what's happening there i'm going to be here ye...</td>\n      <td>whisper</td>\n      <td>boy in the cookie jar . boy in a cookie jar . ...</td>\n    </tr>\n  </tbody>\n</table>\n<p>156 rows × 5 columns</p>\n</div>"
     },
     "execution_count": 31,
     "metadata": {},
     "output_type": "execute_result"
    }
   ],
   "source": [
    "whisper = get_ASR_transcriptions([f'/Volumes/methlab/Students/Jonathan/data_preprocessed/transcriptions/whisper-large/v1_4a8dc1/{d}' for d in ['_raw_ADReSS_audio_test_-_Audio_Cutter', '_raw_ADReSS_audio_train_-_Audio_Cutter']], manual, \"whisper\")\n",
    "whisper"
   ],
   "metadata": {
    "collapsed": false,
    "ExecuteTime": {
     "end_time": "2024-03-07T11:58:02.397550Z",
     "start_time": "2024-03-07T11:57:55.663115Z"
    }
   }
  },
  {
   "cell_type": "code",
   "execution_count": 32,
   "outputs": [
    {
     "data": {
      "text/plain": "         file sample_name                                         transcript  \\\n0    S187.txt        S187  live by climbing up gin o cook at cook a lot t...   \n1    S180.txt        S180  well the boys eh takin cookies out the cookie ...   \n2    S189.txt        S189  but et ewe it still wisd eto still i e ben sho...   \n3    S206.txt        S206  well for one thing the boy is stealing cookies...   \n4    S201.txt        S201  mell the boy is getting cookies and he's going...   \n..        ...         ...                                                ...   \n151  S143.txt        S143  well little boy um richin oug for the cooky ja...   \n152  S129.txt        S129  well anl the kid's up takin cookies out of the...   \n153  S127.txt        S127  can the ladies wash in the distrat ligt they a...   \n154  S095.txt        S095  tell me ow an a ya don der what comes olit wol...   \n155  S092.txt        S092  the little boys up on a on this ting here an i...   \n\n       version                                             manual  \n0    wave2vec2  hm it's a little boy climbing up getting some ...  \n1    wave2vec2  well the boy is taking cookies out of the cook...  \n2    wave2vec2  alright . uh the little girl s wants cookie . ...  \n3    wave2vec2  well for one thing the boy is stealing cookies...  \n4    wave2vec2  well the boy is getting cookies and he's gonna...  \n..         ...                                                ...  \n151  wave2vec2  well little boy throat reaching out for the co...  \n152  wave2vec2  well the kid's up taking cookies out of the co...  \n153  wave2vec2  okay . the lady's washing the dishes like they...  \n154  wave2vec2  and I will tell you what's g oh boy . well the...  \n155  wave2vec2  the little boy is up on uh on this thing here ...  \n\n[156 rows x 5 columns]",
      "text/html": "<div>\n<style scoped>\n    .dataframe tbody tr th:only-of-type {\n        vertical-align: middle;\n    }\n\n    .dataframe tbody tr th {\n        vertical-align: top;\n    }\n\n    .dataframe thead th {\n        text-align: right;\n    }\n</style>\n<table border=\"1\" class=\"dataframe\">\n  <thead>\n    <tr style=\"text-align: right;\">\n      <th></th>\n      <th>file</th>\n      <th>sample_name</th>\n      <th>transcript</th>\n      <th>version</th>\n      <th>manual</th>\n    </tr>\n  </thead>\n  <tbody>\n    <tr>\n      <th>0</th>\n      <td>S187.txt</td>\n      <td>S187</td>\n      <td>live by climbing up gin o cook at cook a lot t...</td>\n      <td>wave2vec2</td>\n      <td>hm it's a little boy climbing up getting some ...</td>\n    </tr>\n    <tr>\n      <th>1</th>\n      <td>S180.txt</td>\n      <td>S180</td>\n      <td>well the boys eh takin cookies out the cookie ...</td>\n      <td>wave2vec2</td>\n      <td>well the boy is taking cookies out of the cook...</td>\n    </tr>\n    <tr>\n      <th>2</th>\n      <td>S189.txt</td>\n      <td>S189</td>\n      <td>but et ewe it still wisd eto still i e ben sho...</td>\n      <td>wave2vec2</td>\n      <td>alright . uh the little girl s wants cookie . ...</td>\n    </tr>\n    <tr>\n      <th>3</th>\n      <td>S206.txt</td>\n      <td>S206</td>\n      <td>well for one thing the boy is stealing cookies...</td>\n      <td>wave2vec2</td>\n      <td>well for one thing the boy is stealing cookies...</td>\n    </tr>\n    <tr>\n      <th>4</th>\n      <td>S201.txt</td>\n      <td>S201</td>\n      <td>mell the boy is getting cookies and he's going...</td>\n      <td>wave2vec2</td>\n      <td>well the boy is getting cookies and he's gonna...</td>\n    </tr>\n    <tr>\n      <th>...</th>\n      <td>...</td>\n      <td>...</td>\n      <td>...</td>\n      <td>...</td>\n      <td>...</td>\n    </tr>\n    <tr>\n      <th>151</th>\n      <td>S143.txt</td>\n      <td>S143</td>\n      <td>well little boy um richin oug for the cooky ja...</td>\n      <td>wave2vec2</td>\n      <td>well little boy throat reaching out for the co...</td>\n    </tr>\n    <tr>\n      <th>152</th>\n      <td>S129.txt</td>\n      <td>S129</td>\n      <td>well anl the kid's up takin cookies out of the...</td>\n      <td>wave2vec2</td>\n      <td>well the kid's up taking cookies out of the co...</td>\n    </tr>\n    <tr>\n      <th>153</th>\n      <td>S127.txt</td>\n      <td>S127</td>\n      <td>can the ladies wash in the distrat ligt they a...</td>\n      <td>wave2vec2</td>\n      <td>okay . the lady's washing the dishes like they...</td>\n    </tr>\n    <tr>\n      <th>154</th>\n      <td>S095.txt</td>\n      <td>S095</td>\n      <td>tell me ow an a ya don der what comes olit wol...</td>\n      <td>wave2vec2</td>\n      <td>and I will tell you what's g oh boy . well the...</td>\n    </tr>\n    <tr>\n      <th>155</th>\n      <td>S092.txt</td>\n      <td>S092</td>\n      <td>the little boys up on a on this ting here an i...</td>\n      <td>wave2vec2</td>\n      <td>the little boy is up on uh on this thing here ...</td>\n    </tr>\n  </tbody>\n</table>\n<p>156 rows × 5 columns</p>\n</div>"
     },
     "execution_count": 32,
     "metadata": {},
     "output_type": "execute_result"
    }
   ],
   "source": [
    "wave2vec2 = get_ASR_transcriptions([f'/Volumes/methlab/Students/Jonathan/data_preprocessed/transcriptions/wave2vec-large/v1_4a8dc1/{d}' for d in ['_raw_ADReSS_audio_test_-_Audio_Cutter', '_raw_ADReSS_audio_train_-_Audio_Cutter']], manual, \"wave2vec2\")\n",
    "wave2vec2"
   ],
   "metadata": {
    "collapsed": false,
    "ExecuteTime": {
     "end_time": "2024-03-07T11:58:08.865993Z",
     "start_time": "2024-03-07T11:58:02.398371Z"
    }
   }
  },
  {
   "cell_type": "markdown",
   "source": [
    "## Calculate Word Error Rate (WER)\n",
    "\n",
    "Using jiwer package, also CER, which we don't use..."
   ],
   "metadata": {
    "collapsed": false
   }
  },
  {
   "cell_type": "code",
   "execution_count": 33,
   "outputs": [],
   "source": [
    "def calculate_wer(transcription):\n",
    "    def calculate_row(fct, row):\n",
    "        try:\n",
    "            return fct(row.manual, row.transcript)\n",
    "        except:\n",
    "            return None\n",
    "    transcription['WER'] = transcription.apply(lambda row: calculate_row(jiwer.wer, row), axis=1)  # word error rate\n",
    "    transcription['CER'] = transcription.apply(lambda row: calculate_row(jiwer.cer, row), axis=1)  # character error rate\n",
    "    return transcription\n"
   ],
   "metadata": {
    "collapsed": false,
    "ExecuteTime": {
     "end_time": "2024-03-07T11:58:08.866504Z",
     "start_time": "2024-03-07T11:58:08.857650Z"
    }
   }
  },
  {
   "cell_type": "code",
   "execution_count": 34,
   "outputs": [
    {
     "data": {
      "text/plain": "         file sample_name  \\\n0    S187.txt        S187   \n1    S180.txt        S180   \n2    S189.txt        S189   \n3    S206.txt        S206   \n4    S201.txt        S201   \n..        ...         ...   \n151  S143.txt        S143   \n152  S129.txt        S129   \n153  S127.txt        S127   \n154  S095.txt        S095   \n155  S092.txt        S092   \n\n                                                                                                                                                                                                                                                                                                                                                                                                                                                                                                                                                                                                                                                                                                                                                                                                           transcript  \\\n0    live by climbing up gin o cook at cook a lot toe cooke jor and i lives u to reach a pason an live wash down on a low and it bis us to washing edision at the ank dik sis washing the dichonit's got she got da dises on this siing on the sant not thank sheis a running water an ila dit er livs us tes ar rechin johnnys at johnny hes ar hes up on a louto er ge gettin some cook es in ther lives us to reaching up reach reaching a bapsol he he i ye pason down to her and en now rit ta dout about to turn o on egos de cup so at you er maybe she dem to wash him if she gon sidting on i on the saint and maybe run maye runnin water on the sank and ye got hishon got a got a cook the pool that she might get some might in i ans dicos tedichos taked up it might be on the sint not even allrighty   \n1                                                                                                                                                                                                                                                                                                                                                                                                                                                                          well the boys eh takin cookies out the cookie jar while the the stool is ready to a ball over the girl is reachin fer cooki e the mother is looking out of the window while the water runs over from the sink yes what feet standing in the water at's the actual devicy unnaturally the stool falls over the voyage going to all in flora   \n2                                                                                                                                                                                                                                                                                                                                                                                                                                                                                                                                                                                                                                                         but et ewe it still wisd eto still i e ben shon at cn me is e bowin on away him mo e atis ismoe by monto i now way she sat er astha oeat mo same soo i ee i   \n3                                                                                                                                                                                                                                                      well for one thing the boy is stealing cookies and the girl is asking for cookie and the boy is standing on her stool which is tipping over and the lady's drying her plate endthe water is running in the sink and overflowing ong her floor and getting her feet wet and the window is open in i don't know that there's anything special going on outside the window seems to me that that's essentially the things that are going on in this picture the girl is picking her nose the boy is handing her cookie really those are the only activities i see   \n4                                                                                                                                                                                                                                                                                                                                                                                                                                                                                                                       mell the boy is getting cookies and he's going to fall off the school and the mother is dowing dishes and the water is running over out of the saying she has a bosset on shs spilling water all over the for well the boys handing the ll girl o cookie meee i thing but i give yo of action   \n..                                                                                                                                                                                                                                                                                                                                                                                                                                                                                                                                                                                                                                                                                                                                                                                                                ...   \n151                                                                                                                                                                                                                                                                                                                                                                                                                                                                                                                                                              well little boy um richin oug for the cooky jar an the strorys standin on till it's over and and he's handin some cookies down to the little girl an mother's wodryin dishes and spills water on the floor and she's lookin out o the window it's at   \n152                                                                                                                                                                                                                                                                                                                                                              well anl the kid's up takin cookies out of the cooki jar the other one's their holdin her hand the jar's goin to fall she's washin dishes and forgot te turn to sink off water's worn all over the floor ty dishes are on sink it looks like a face lain in a yard whay te grass is mum that's what we got kid takin cookies out o the cooki jar o kid has her hand up after it mamma's washin dishes sinks runnin over not jip wind it windows open   \n153                                                                                                                                                                                                                                                                                                                                                                                                                                                                                                                                                                                                                   can the ladies wash in the distrat ligt they always do a little boy's got on fool alle over try to get a cooknd the girl fy e ote anin fill water out of brot over arab o think no water hollum   \n154                                                                                                                                                                                                                                                                                                                                                                                                                                                                                                                                                                                                                                                        tell me ow an a ya don der what comes olit wol litle voice reachin ertly stools on little girl man the giver one no nise bon that dish is e t e e her ohom   \n155                                                                                                                                                                                                                                                                                the little boys up on a on this ting here an its he's up tryin to get something out o e gardens selection i think it is thele girl i think is mad because she didn't get m of it an here's mamma dry in the dishes now gus the little girl an the boy was on here the little girl an the boy nk she has reachin up to the boy an the boys got his other hand down sad beny be on no that's all an now sheint spilled something i think from the sink down it came to splashin down en's at first i noticed it no terrible any more   \n\n       version  \\\n0    wave2vec2   \n1    wave2vec2   \n2    wave2vec2   \n3    wave2vec2   \n4    wave2vec2   \n..         ...   \n151  wave2vec2   \n152  wave2vec2   \n153  wave2vec2   \n154  wave2vec2   \n155  wave2vec2   \n\n                                                                                                                                                                                                                                                                                                                                                                                                                                                                                                                                                                                                                                                                                                                                                                                                                                                                                                                                                                                                    manual  \\\n0    hm it's a little boy climbing up getting some coo cookies out of the cookie jar . and his little sister reaching for some . and the little boy is standing on a ladder . and his big sister washing the dishes at the sink . big sister washing the dishes and then she got she got uh dishes on the s sitting on the sink . and I think she's uh running water . and I said the uh little sister's uh reach Johnny's Johnny he is uh he is up on the ladder uh get getting some cookies and the little sister reaching up reach reaching up after some . he he he he's passing it down to her . and the ladder the ladder about to turn over . the k uh this the cups what she's uh sh maybe she going to wash them and she got them sitting on the on the sink . and maybe running maybe running water on the sink and they got if she got a got a curtain to pull that she might get some light in there . since dishes the dishes stacked up . they might be on the sink . no that be about all .   \n1                                                                                                                                                                                                                                                                                                                                                                                                                                                                                                                                                                                                                            well the boy is taking cookies out of the cookie jar while the the stool is ready to uh fall over . the girl is reaching for a cookie . uh the mother is looking out the window while the water runs over from the sink . she has wet feet standing in the water . that's the action that I see . well naturally the stool falls over the boy is going to fall on the floor .   \n2                                                                                                                                                                                                                                                                                                                                                                                                                                          alright . uh the little girl s wants cookie . the boy is getting her one but the s stool is going to he's going to fall off the stool . it's tilty . uh the mother is doing the dishes . and unfortunately the sink is overflowing on the floor . it's wet . . . the little b oh that's his feet . I thought there was something around the little boy's foot or at least at least just one part of one foot foot on top of the other . the little girl I I don't whether she's laughing or asking for the cookie or saying “shh” so mother doesn't hear them .   \n3                                                                                                                                                                                                                                                                                                                                                                                                              well for one thing the boy is stealing cookies . and the girl is asking for a cookie . and the boy is standing on a stool which is tipping over . and the lady's drying a plate . and the water is running in the sink and overflowing on the floor and getting her feet wet . and the window is open . and I don't know that there's anything special going on outside the window . seems to me that uh that's essentially the things that are going on in this picture . the girl is picking her nose . the boy is handing her a cookie . uh really those are the only activities I see .   \n4                                                                                                                                                                                                                                                                                                                                                                                                                                                                                                                                                                                                                                                                                          well the boy is getting cookies and he's gonna fall off the stool . and the mother is doing dishes . and the water is running over out of the sink . she has the faucet on . she's spilling water all over the floor . well the boy is handing the little girl a cookie . uh nothing that I can see of action .   \n..                                                                                                                                                                                                                                                                                                                                                                                                                                                                                                                                                                                                                                                                                                                                                                                                                                                                                                                                                                                                     ...   \n151                                                                                                                                                                                                                                                                                                                                                                                                                                                                                                                                                                                                                                                                                                                        well little boy throat reaching out for the cookie jar . and the stool he's standing on tilts over . and um he's handing some cookies down to the little girl . and the mother's w drying dishes and spills water on the floor . and she's looking out the window . that's it .   \n152                                                                                                                                                                                                                                                                                                                                                                                                                                                                      well the kid's up taking cookies out of the cookie jar . the other one's there holding her hand . the jar is gonna fall . she's washing dishes and forgot to turn the sink off . water's pouring all over the floor . uh dishes are on the sink . and it looks like a face laying in the yard the way the grass is . hm oh it's uh that's what we got . kid taking cookies out of the cookie jar . the kid has her hand up after it . mama's washing dishes . sink's running over . and that's it . good . window window's open .   \n153                                                                                                                                                                                                                                                                                                                                                                                                                                                                                                                                                                                                                                                                                                              okay . the lady's washing the dishes like they always do . a little boy's up on the stool falling over . he's trying to get a cookie . and the girl's trying to help and she's reaching her hand up . and they spilled water out of the s raw overran the sink . spilled water all over .   \n154                                                                                                                                                                                                                                                                                                                                                                                                                                                                                           and I will tell you what's g oh boy . well the little boy is reaching for a cookie . and his s stool is falling over . and the little girl is begging him to give her one . and she's pointing to her mouth . she wants to eat it . uh their mama is doing the dishes . the water's running over the sink . that's a mess . and then she's not even looking at them . drying dishes . I think she's looking out the window . it's a nice yard out there . two cups and and a dish finished . anything else ?   \n155                                                                                                                                                                                                                                                                                                                                                                                                                            the little boy is up on uh on this thing here . and it's he's up trying to get something out of the garden selection I think it is . the little girl I think is mad because she didn't get some of it . and here's mama drying the dishes . no just the little girl and the boy was on here . the little girl and the boy . she's reaching up to the boy and the boy is got his other hand down . so it looks color no that's all . oh she spilled something I think . from the sink down . it came splashing down . that's the first I noticed it . I'm terrible anymore .   \n\n          WER       CER  \n0    0.708134  0.386528  \n1    0.430380  0.189041  \n2    0.974138  0.790055  \n3    0.200000  0.082312  \n4    0.409091  0.194719  \n..        ...       ...  \n151  0.472727  0.199262  \n152  0.464286  0.220273  \n153  0.716667  0.473310  \n154  0.954545  0.780488  \n155  0.455285  0.178378  \n\n[156 rows x 7 columns]",
      "text/html": "<div>\n<style scoped>\n    .dataframe tbody tr th:only-of-type {\n        vertical-align: middle;\n    }\n\n    .dataframe tbody tr th {\n        vertical-align: top;\n    }\n\n    .dataframe thead th {\n        text-align: right;\n    }\n</style>\n<table border=\"1\" class=\"dataframe\">\n  <thead>\n    <tr style=\"text-align: right;\">\n      <th></th>\n      <th>file</th>\n      <th>sample_name</th>\n      <th>transcript</th>\n      <th>version</th>\n      <th>manual</th>\n      <th>WER</th>\n      <th>CER</th>\n    </tr>\n  </thead>\n  <tbody>\n    <tr>\n      <th>0</th>\n      <td>S187.txt</td>\n      <td>S187</td>\n      <td>live by climbing up gin o cook at cook a lot toe cooke jor and i lives u to reach a pason an live wash down on a low and it bis us to washing edision at the ank dik sis washing the dichonit's got she got da dises on this siing on the sant not thank sheis a running water an ila dit er livs us tes ar rechin johnnys at johnny hes ar hes up on a louto er ge gettin some cook es in ther lives us to reaching up reach reaching a bapsol he he i ye pason down to her and en now rit ta dout about to turn o on egos de cup so at you er maybe she dem to wash him if she gon sidting on i on the saint and maybe run maye runnin water on the sank and ye got hishon got a got a cook the pool that she might get some might in i ans dicos tedichos taked up it might be on the sint not even allrighty</td>\n      <td>wave2vec2</td>\n      <td>hm it's a little boy climbing up getting some coo cookies out of the cookie jar . and his little sister reaching for some . and the little boy is standing on a ladder . and his big sister washing the dishes at the sink . big sister washing the dishes and then she got she got uh dishes on the s sitting on the sink . and I think she's uh running water . and I said the uh little sister's uh reach Johnny's Johnny he is uh he is up on the ladder uh get getting some cookies and the little sister reaching up reach reaching up after some . he he he he's passing it down to her . and the ladder the ladder about to turn over . the k uh this the cups what she's uh sh maybe she going to wash them and she got them sitting on the on the sink . and maybe running maybe running water on the sink and they got if she got a got a curtain to pull that she might get some light in there . since dishes the dishes stacked up . they might be on the sink . no that be about all .</td>\n      <td>0.708134</td>\n      <td>0.386528</td>\n    </tr>\n    <tr>\n      <th>1</th>\n      <td>S180.txt</td>\n      <td>S180</td>\n      <td>well the boys eh takin cookies out the cookie jar while the the stool is ready to a ball over the girl is reachin fer cooki e the mother is looking out of the window while the water runs over from the sink yes what feet standing in the water at's the actual devicy unnaturally the stool falls over the voyage going to all in flora</td>\n      <td>wave2vec2</td>\n      <td>well the boy is taking cookies out of the cookie jar while the the stool is ready to uh fall over . the girl is reaching for a cookie . uh the mother is looking out the window while the water runs over from the sink . she has wet feet standing in the water . that's the action that I see . well naturally the stool falls over the boy is going to fall on the floor .</td>\n      <td>0.430380</td>\n      <td>0.189041</td>\n    </tr>\n    <tr>\n      <th>2</th>\n      <td>S189.txt</td>\n      <td>S189</td>\n      <td>but et ewe it still wisd eto still i e ben shon at cn me is e bowin on away him mo e atis ismoe by monto i now way she sat er astha oeat mo same soo i ee i</td>\n      <td>wave2vec2</td>\n      <td>alright . uh the little girl s wants cookie . the boy is getting her one but the s stool is going to he's going to fall off the stool . it's tilty . uh the mother is doing the dishes . and unfortunately the sink is overflowing on the floor . it's wet . . . the little b oh that's his feet . I thought there was something around the little boy's foot or at least at least just one part of one foot foot on top of the other . the little girl I I don't whether she's laughing or asking for the cookie or saying “shh” so mother doesn't hear them .</td>\n      <td>0.974138</td>\n      <td>0.790055</td>\n    </tr>\n    <tr>\n      <th>3</th>\n      <td>S206.txt</td>\n      <td>S206</td>\n      <td>well for one thing the boy is stealing cookies and the girl is asking for cookie and the boy is standing on her stool which is tipping over and the lady's drying her plate endthe water is running in the sink and overflowing ong her floor and getting her feet wet and the window is open in i don't know that there's anything special going on outside the window seems to me that that's essentially the things that are going on in this picture the girl is picking her nose the boy is handing her cookie really those are the only activities i see</td>\n      <td>wave2vec2</td>\n      <td>well for one thing the boy is stealing cookies . and the girl is asking for a cookie . and the boy is standing on a stool which is tipping over . and the lady's drying a plate . and the water is running in the sink and overflowing on the floor and getting her feet wet . and the window is open . and I don't know that there's anything special going on outside the window . seems to me that uh that's essentially the things that are going on in this picture . the girl is picking her nose . the boy is handing her a cookie . uh really those are the only activities I see .</td>\n      <td>0.200000</td>\n      <td>0.082312</td>\n    </tr>\n    <tr>\n      <th>4</th>\n      <td>S201.txt</td>\n      <td>S201</td>\n      <td>mell the boy is getting cookies and he's going to fall off the school and the mother is dowing dishes and the water is running over out of the saying she has a bosset on shs spilling water all over the for well the boys handing the ll girl o cookie meee i thing but i give yo of action</td>\n      <td>wave2vec2</td>\n      <td>well the boy is getting cookies and he's gonna fall off the stool . and the mother is doing dishes . and the water is running over out of the sink . she has the faucet on . she's spilling water all over the floor . well the boy is handing the little girl a cookie . uh nothing that I can see of action .</td>\n      <td>0.409091</td>\n      <td>0.194719</td>\n    </tr>\n    <tr>\n      <th>...</th>\n      <td>...</td>\n      <td>...</td>\n      <td>...</td>\n      <td>...</td>\n      <td>...</td>\n      <td>...</td>\n      <td>...</td>\n    </tr>\n    <tr>\n      <th>151</th>\n      <td>S143.txt</td>\n      <td>S143</td>\n      <td>well little boy um richin oug for the cooky jar an the strorys standin on till it's over and and he's handin some cookies down to the little girl an mother's wodryin dishes and spills water on the floor and she's lookin out o the window it's at</td>\n      <td>wave2vec2</td>\n      <td>well little boy throat reaching out for the cookie jar . and the stool he's standing on tilts over . and um he's handing some cookies down to the little girl . and the mother's w drying dishes and spills water on the floor . and she's looking out the window . that's it .</td>\n      <td>0.472727</td>\n      <td>0.199262</td>\n    </tr>\n    <tr>\n      <th>152</th>\n      <td>S129.txt</td>\n      <td>S129</td>\n      <td>well anl the kid's up takin cookies out of the cooki jar the other one's their holdin her hand the jar's goin to fall she's washin dishes and forgot te turn to sink off water's worn all over the floor ty dishes are on sink it looks like a face lain in a yard whay te grass is mum that's what we got kid takin cookies out o the cooki jar o kid has her hand up after it mamma's washin dishes sinks runnin over not jip wind it windows open</td>\n      <td>wave2vec2</td>\n      <td>well the kid's up taking cookies out of the cookie jar . the other one's there holding her hand . the jar is gonna fall . she's washing dishes and forgot to turn the sink off . water's pouring all over the floor . uh dishes are on the sink . and it looks like a face laying in the yard the way the grass is . hm oh it's uh that's what we got . kid taking cookies out of the cookie jar . the kid has her hand up after it . mama's washing dishes . sink's running over . and that's it . good . window window's open .</td>\n      <td>0.464286</td>\n      <td>0.220273</td>\n    </tr>\n    <tr>\n      <th>153</th>\n      <td>S127.txt</td>\n      <td>S127</td>\n      <td>can the ladies wash in the distrat ligt they always do a little boy's got on fool alle over try to get a cooknd the girl fy e ote anin fill water out of brot over arab o think no water hollum</td>\n      <td>wave2vec2</td>\n      <td>okay . the lady's washing the dishes like they always do . a little boy's up on the stool falling over . he's trying to get a cookie . and the girl's trying to help and she's reaching her hand up . and they spilled water out of the s raw overran the sink . spilled water all over .</td>\n      <td>0.716667</td>\n      <td>0.473310</td>\n    </tr>\n    <tr>\n      <th>154</th>\n      <td>S095.txt</td>\n      <td>S095</td>\n      <td>tell me ow an a ya don der what comes olit wol litle voice reachin ertly stools on little girl man the giver one no nise bon that dish is e t e e her ohom</td>\n      <td>wave2vec2</td>\n      <td>and I will tell you what's g oh boy . well the little boy is reaching for a cookie . and his s stool is falling over . and the little girl is begging him to give her one . and she's pointing to her mouth . she wants to eat it . uh their mama is doing the dishes . the water's running over the sink . that's a mess . and then she's not even looking at them . drying dishes . I think she's looking out the window . it's a nice yard out there . two cups and and a dish finished . anything else ?</td>\n      <td>0.954545</td>\n      <td>0.780488</td>\n    </tr>\n    <tr>\n      <th>155</th>\n      <td>S092.txt</td>\n      <td>S092</td>\n      <td>the little boys up on a on this ting here an its he's up tryin to get something out o e gardens selection i think it is thele girl i think is mad because she didn't get m of it an here's mamma dry in the dishes now gus the little girl an the boy was on here the little girl an the boy nk she has reachin up to the boy an the boys got his other hand down sad beny be on no that's all an now sheint spilled something i think from the sink down it came to splashin down en's at first i noticed it no terrible any more</td>\n      <td>wave2vec2</td>\n      <td>the little boy is up on uh on this thing here . and it's he's up trying to get something out of the garden selection I think it is . the little girl I think is mad because she didn't get some of it . and here's mama drying the dishes . no just the little girl and the boy was on here . the little girl and the boy . she's reaching up to the boy and the boy is got his other hand down . so it looks color no that's all . oh she spilled something I think . from the sink down . it came splashing down . that's the first I noticed it . I'm terrible anymore .</td>\n      <td>0.455285</td>\n      <td>0.178378</td>\n    </tr>\n  </tbody>\n</table>\n<p>156 rows × 7 columns</p>\n</div>"
     },
     "metadata": {},
     "output_type": "display_data"
    }
   ],
   "source": [
    "# Example, for one ASR\n",
    "with pd.option_context('display.max_colwidth', 2000):\n",
    "    display(calculate_wer(wave2vec2))"
   ],
   "metadata": {
    "collapsed": false,
    "ExecuteTime": {
     "end_time": "2024-03-07T11:58:08.947231Z",
     "start_time": "2024-03-07T11:58:08.866428Z"
    }
   }
  },
  {
   "cell_type": "markdown",
   "source": [
    "### Plot box plot of distribution of WER for each ASR sytem\n",
    "\n",
    "With and without outliers"
   ],
   "metadata": {
    "collapsed": false
   }
  },
  {
   "cell_type": "code",
   "execution_count": 35,
   "outputs": [
    {
     "data": {
      "text/plain": "<Figure size 800x600 with 2 Axes>",
      "image/png": "[encoded data removed]"
     },
     "metadata": {},
     "output_type": "display_data"
    }
   ],
   "source": [
    "def plot_metrics(metric_name, experiment_name, *transcriptions):\n",
    "\n",
    "    metric_name_mapping = {\n",
    "        'WER': \"Word Error Rate\",\n",
    "        'CER': \"Character Error Rate\"\n",
    "    }\n",
    "    metric_name_full = metric_name_mapping.get(metric_name, metric_name)\n",
    "\n",
    "    metrics = {}\n",
    "    for t in transcriptions:\n",
    "        version = t['version'][0]\n",
    "        #print(\"Version:\", version)\n",
    "        if t.query(\"transcript.isna()\").shape[0] > 0:\n",
    "            print(f\"NA transcriptions for sample {t.query('transcript.isna()')['sample_name']}\")\n",
    "            t = t.query(\"not transcript.isna()\").copy()\n",
    "        m = calculate_wer(t)[metric_name]\n",
    "        metrics[version] = m\n",
    "\n",
    "    # positions: i + a gap between each group. Make sure it's sorted by group, otherwise the positions logic doesnt work\n",
    "    groups = [0 if 'adress' in metric_name else 1 for metric_name in metrics]\n",
    "    assert sorted(groups) == groups\n",
    "    positions = [i+groups[i] for i in range(len(groups))]\n",
    "\n",
    "    fig, (ax1, ax2) = plt.subplots(1, 2, figsize=(8,6))\n",
    "    fig.suptitle(f'{metric_name_full} comparisons')\n",
    "    ax1.boxplot(metrics.values(), positions=positions)\n",
    "    ax1.set_xticklabels(metrics.keys(), rotation=45, ha='right', rotation_mode='anchor')\n",
    "    ax2.boxplot(metrics.values(), sym=\"\", positions=positions)\n",
    "    ax2.set_xticklabels(metrics.keys(), rotation=45, ha='right', rotation_mode='anchor')\n",
    "    plt.tight_layout()\n",
    "\n",
    "    create_directory(\"plots\")\n",
    "    experiment_name_part = experiment_name.replace(\" \", \"_\").lower()\n",
    "    plt.savefig(f\"plots/{experiment_name_part}_{metric_name}-transcriptions.png\")\n",
    "    plt.show()\n",
    "\n",
    "plot_metrics('WER', 'ASR comparison', whisper, google, wave2vec2)\n",
    "#plot_metrics('CER', 'ASR comparison', whisper, google, wave2vec2)\n",
    "\n",
    "\n",
    "\n"
   ],
   "metadata": {
    "collapsed": false,
    "ExecuteTime": {
     "end_time": "2024-03-07T11:58:09.279504Z",
     "start_time": "2024-03-07T11:58:08.976347Z"
    }
   }
  },
  {
   "cell_type": "code",
   "execution_count": 35,
   "outputs": [],
   "source": [],
   "metadata": {
    "collapsed": false,
    "ExecuteTime": {
     "end_time": "2024-03-07T11:58:09.287139Z",
     "start_time": "2024-03-07T11:58:09.279517Z"
    }
   }
  },
  {
   "cell_type": "markdown",
   "source": [
    "## Load gender and age information for each sample_name"
   ],
   "metadata": {
    "collapsed": false
   }
  },
  {
   "cell_type": "code",
   "execution_count": 36,
   "outputs": [
    {
     "data": {
      "text/plain": "gender\n1    86\n0    70\nName: count, dtype: int64"
     },
     "execution_count": 36,
     "metadata": {},
     "output_type": "execute_result"
    }
   ],
   "source": [
    "# get gender and age\n",
    "\n",
    "metadata_raw = [{'path': os.path.join(CONSTANTS.DATA_ADReSS_ROOT, \"test\", \"meta_data_with_labels.csv\"), 'label': None},\n",
    "                {'path': os.path.join(CONSTANTS.DATA_ADReSS_ROOT, \"train\", \"cd_meta_data.txt\"), 'label': 1},\n",
    "                {'path': os.path.join(CONSTANTS.DATA_ADReSS_ROOT, \"train\", \"cc_meta_data.txt\"), 'label': 0}]\n",
    "\n",
    "dfs = []\n",
    "for d in metadata_raw:\n",
    "    path, label = d['path'], d['label']\n",
    "    df = pd.read_csv(path, sep=\";\")\n",
    "    if label is not None:\n",
    "        df['Label'] = label\n",
    "    df = df.rename(columns={c: c.strip() for c in df.columns}).rename(columns={'ID': 'sample_name'})\n",
    "    dfs.append(df)\n",
    "participant_metadata = pd.concat(dfs)\n",
    "participant_metadata.sample_name = participant_metadata.sample_name.str.strip()\n",
    "participant_metadata.gender = np.where(participant_metadata.gender.str.strip().isin(['female', \"1\", 1]), 1, np.where(participant_metadata.gender.str.strip().isin(['male', \"0\", 0]), 0, participant_metadata.gender)) # 1 female, 0 male\n",
    "participant_metadata\n",
    "\n",
    "participant_metadata.gender.value_counts(dropna=False)"
   ],
   "metadata": {
    "collapsed": false,
    "ExecuteTime": {
     "end_time": "2024-03-07T11:58:09.294983Z",
     "start_time": "2024-03-07T11:58:09.284221Z"
    }
   }
  },
  {
   "cell_type": "markdown",
   "source": [
    "## Plot distribution of WER for each ASR and group"
   ],
   "metadata": {
    "collapsed": false
   }
  },
  {
   "cell_type": "code",
   "execution_count": 37,
   "outputs": [
    {
     "data": {
      "text/plain": "         file sample_name    version       WER       CER  age gender Label  \\\n0    S001.txt        S001  wave2vec2  0.304348  0.122736   74      0     0   \n1    S001.txt        S001     google  0.193237  0.089537   74      0     0   \n2    S001.txt        S001    whisper  0.193237  0.102616   74      0     0   \n3    S002.txt        S002    whisper  0.970874  0.900383   62      1     0   \n4    S002.txt        S002     google  1.000000  1.000000   62      1     0   \n..        ...         ...        ...       ...       ...  ...    ...   ...   \n463  S206.txt        S206  wave2vec2  0.200000  0.082312   65      0     0   \n464  S206.txt        S206    whisper  0.158333  0.070053   65      0     0   \n465  S207.txt        S207  wave2vec2  1.612245  1.153527   57      1     0   \n466  S207.txt        S207    whisper  0.959184  0.721992   57      1     0   \n467  S207.txt        S207     google  1.122449  0.879668   57      1     0   \n\n    mmse  \n0     NA  \n1     NA  \n2     NA  \n3     30  \n4     30  \n..   ...  \n463   28  \n464   28  \n465   27  \n466   27  \n467   27  \n\n[468 rows x 9 columns]",
      "text/html": "<div>\n<style scoped>\n    .dataframe tbody tr th:only-of-type {\n        vertical-align: middle;\n    }\n\n    .dataframe tbody tr th {\n        vertical-align: top;\n    }\n\n    .dataframe thead th {\n        text-align: right;\n    }\n</style>\n<table border=\"1\" class=\"dataframe\">\n  <thead>\n    <tr style=\"text-align: right;\">\n      <th></th>\n      <th>file</th>\n      <th>sample_name</th>\n      <th>version</th>\n      <th>WER</th>\n      <th>CER</th>\n      <th>age</th>\n      <th>gender</th>\n      <th>Label</th>\n      <th>mmse</th>\n    </tr>\n  </thead>\n  <tbody>\n    <tr>\n      <th>0</th>\n      <td>S001.txt</td>\n      <td>S001</td>\n      <td>wave2vec2</td>\n      <td>0.304348</td>\n      <td>0.122736</td>\n      <td>74</td>\n      <td>0</td>\n      <td>0</td>\n      <td>NA</td>\n    </tr>\n    <tr>\n      <th>1</th>\n      <td>S001.txt</td>\n      <td>S001</td>\n      <td>google</td>\n      <td>0.193237</td>\n      <td>0.089537</td>\n      <td>74</td>\n      <td>0</td>\n      <td>0</td>\n      <td>NA</td>\n    </tr>\n    <tr>\n      <th>2</th>\n      <td>S001.txt</td>\n      <td>S001</td>\n      <td>whisper</td>\n      <td>0.193237</td>\n      <td>0.102616</td>\n      <td>74</td>\n      <td>0</td>\n      <td>0</td>\n      <td>NA</td>\n    </tr>\n    <tr>\n      <th>3</th>\n      <td>S002.txt</td>\n      <td>S002</td>\n      <td>whisper</td>\n      <td>0.970874</td>\n      <td>0.900383</td>\n      <td>62</td>\n      <td>1</td>\n      <td>0</td>\n      <td>30</td>\n    </tr>\n    <tr>\n      <th>4</th>\n      <td>S002.txt</td>\n      <td>S002</td>\n      <td>google</td>\n      <td>1.000000</td>\n      <td>1.000000</td>\n      <td>62</td>\n      <td>1</td>\n      <td>0</td>\n      <td>30</td>\n    </tr>\n    <tr>\n      <th>...</th>\n      <td>...</td>\n      <td>...</td>\n      <td>...</td>\n      <td>...</td>\n      <td>...</td>\n      <td>...</td>\n      <td>...</td>\n      <td>...</td>\n      <td>...</td>\n    </tr>\n    <tr>\n      <th>463</th>\n      <td>S206.txt</td>\n      <td>S206</td>\n      <td>wave2vec2</td>\n      <td>0.200000</td>\n      <td>0.082312</td>\n      <td>65</td>\n      <td>0</td>\n      <td>0</td>\n      <td>28</td>\n    </tr>\n    <tr>\n      <th>464</th>\n      <td>S206.txt</td>\n      <td>S206</td>\n      <td>whisper</td>\n      <td>0.158333</td>\n      <td>0.070053</td>\n      <td>65</td>\n      <td>0</td>\n      <td>0</td>\n      <td>28</td>\n    </tr>\n    <tr>\n      <th>465</th>\n      <td>S207.txt</td>\n      <td>S207</td>\n      <td>wave2vec2</td>\n      <td>1.612245</td>\n      <td>1.153527</td>\n      <td>57</td>\n      <td>1</td>\n      <td>0</td>\n      <td>27</td>\n    </tr>\n    <tr>\n      <th>466</th>\n      <td>S207.txt</td>\n      <td>S207</td>\n      <td>whisper</td>\n      <td>0.959184</td>\n      <td>0.721992</td>\n      <td>57</td>\n      <td>1</td>\n      <td>0</td>\n      <td>27</td>\n    </tr>\n    <tr>\n      <th>467</th>\n      <td>S207.txt</td>\n      <td>S207</td>\n      <td>google</td>\n      <td>1.122449</td>\n      <td>0.879668</td>\n      <td>57</td>\n      <td>1</td>\n      <td>0</td>\n      <td>27</td>\n    </tr>\n  </tbody>\n</table>\n<p>468 rows × 9 columns</p>\n</div>"
     },
     "execution_count": 37,
     "metadata": {},
     "output_type": "execute_result"
    }
   ],
   "source": [
    "combined = pd.concat([whisper, google, wave2vec2])\n",
    "combined = combined.sort_values(by=\"file\").drop(columns=['transcript','manual'])\n",
    "combined = combined.merge(participant_metadata, on=\"sample_name\", how=\"left\")\n",
    "combined['Label'] = combined['Label'].astype(str)\n",
    "combined"
   ],
   "metadata": {
    "collapsed": false,
    "ExecuteTime": {
     "end_time": "2024-03-07T11:58:09.343498Z",
     "start_time": "2024-03-07T11:58:09.296587Z"
    }
   }
  },
  {
   "cell_type": "code",
   "execution_count": 175,
   "outputs": [
    {
     "data": {
      "text/plain": "<Figure size 394.094x216.535 with 1 Axes>",
      "image/png": "[encoded data removed]"
     },
     "metadata": {},
     "output_type": "display_data"
    }
   ],
   "source": [
    "import matplotlib.patches as mpatches\n",
    "\n",
    "def plot_metrics_for_paper2(combined):\n",
    "\n",
    "\n",
    "    #with plt.rc_context({\"text.usetex\": True, \"font.family\": \"sans-serif\", \"font.sans-serif\": \"Arial\", \"font.size\": 10}):\n",
    "    with plt.rc_context({\"font.family\": \"sans-serif\", \"font.sans-serif\": \"Arial\", \"font.size\": 10}):\n",
    "        # one column is 7.7 cm\n",
    "        cm = 1/2.54\n",
    "        fig, (ax2) = plt.subplots(1, 1, figsize=(7.7*1.3*cm,5.5*cm))\n",
    "        #fig.suptitle(f'{metric_name_full} comparisons')\n",
    "\n",
    "\n",
    "        label_positions = []\n",
    "        labels = []\n",
    "        for subgroup in ['all', 'dementia', 'control']:\n",
    "            for i, version in enumerate(combined.version.drop_duplicates()):\n",
    "                base_position = i*3.5\n",
    "                if subgroup == 'all':\n",
    "                    values = combined.query(f\"version == '{version}'\").WER\n",
    "                    position = base_position\n",
    "                    boxprops = dict(facecolor='#fff')\n",
    "                    label_positions.append(base_position + 1)\n",
    "                    labels.append(version.replace(\"_adress\", \"\").replace(\"wave2vec2\", 'Wave2vec2').replace(\"google\", 'Google\\nSpeech').replace(\"whisper\", 'Whisper'))\n",
    "                elif subgroup == 'dementia':\n",
    "                    values = combined.query(f\"version == '{version}' and Label == '1'\").WER\n",
    "                    position = base_position + 1\n",
    "                    boxprops = dict(facecolor='#ccc')\n",
    "                elif subgroup == 'control':\n",
    "                    values = combined.query(f\"version == '{version}' and Label == '0'\").WER\n",
    "                    position = base_position + 2\n",
    "                    boxprops = dict(facecolor='#888')\n",
    "                ax2.boxplot(values, sym=\"\", positions=[position], vert=False, widths=0.7, boxprops=boxprops, medianprops=dict(color='#000'), patch_artist=True)\n",
    "\n",
    "                #ax2.text(1.27, position-0.1, f\"{np.median(values):.2f}\", ha=\"right\", va=\"center\", fontsize=\"9\", backgroundcolor=\"white\", linespacing=1,\n",
    "                #          bbox=dict(boxstyle='square,pad=-0.1', fc=(1,1,1,0.7), ec=\"none\"))\n",
    "\n",
    "        # custom legend\n",
    "        all = mpatches.Patch(facecolor='#fff', edgecolor='#000', label='All data')\n",
    "        dementia = mpatches.Patch(facecolor='#ccc', edgecolor='#000', label='AD')\n",
    "        control = mpatches.Patch(facecolor='#888', edgecolor='#000', label='Control')\n",
    "        plt.legend(handles=[all, dementia, control], fontsize=10, ncol=3, loc='upper center', bbox_to_anchor=(0.4,1.2), columnspacing=0.5, frameon=False, handletextpad=0.3)\n",
    "\n",
    "\n",
    "        ax2.set_xlabel(\"WER\")\n",
    "        ax2.set_yticks(label_positions, labels)#, rotation=45, ha='right', rotation_mode='anchor')\n",
    "        ax2.set_xticks([0, .25, .5, .75, 1, 1.25])\n",
    "        ax2.set_xlim([0,1.3])\n",
    "        plt.tight_layout(pad=0)\n",
    "        \n",
    "\n",
    "        plt.savefig(f\"plots/ASR_WER_with_subgroups2.pdf\")\n",
    "        plt.show()\n",
    "\n",
    "plot_metrics_for_paper2(combined)"
   ],
   "metadata": {
    "collapsed": false,
    "ExecuteTime": {
     "end_time": "2024-03-08T09:15:49.329014Z",
     "start_time": "2024-03-08T09:15:49.218969Z"
    }
   }
  },
  {
   "cell_type": "code",
   "outputs": [
    {
     "data": {
      "text/plain": "<Figure size 394.094x393.701 with 2 Axes>",
      "image/png": "[encoded data removed]"
     },
     "metadata": {},
     "output_type": "display_data"
    }
   ],
   "source": [
    "import matplotlib.patches as mpatches\n",
    "from matplotlib.gridspec import GridSpec\n",
    "\n",
    "def plot_metrics_for_paper3(combined):\n",
    "\n",
    "\n",
    "    #with plt.rc_context({\"text.usetex\": True, \"font.family\": \"sans-serif\", \"font.sans-serif\": \"Arial\", \"font.size\": 10}):\n",
    "    with plt.rc_context({\"font.family\": \"sans-serif\", \"font.sans-serif\": \"Arial\", \"font.size\": 10}):\n",
    "        # one column is 7.7 cm\n",
    "        cm = 1/2.54\n",
    "        \n",
    "        #fig, (ax2) = plt.subplots(1, 1, figsize=(7.7*1.3*cm,5.5*cm))\n",
    "        #fig = plt.figure(layout=\"constrained\", figsize=(7.7*1.3*cm,10*cm))\n",
    "        #gs = GridSpec(2, 2, figure=fig)\n",
    "        #ax1 = fig.add_subplot(gs[0, :])\n",
    "        #ax2 = fig.add_subplot(gs[1, 0])\n",
    "        #ax3 = fig.add_subplot(gs[1:, 1])\n",
    "        \n",
    "        fig, (ax1, ax2) = plt.subplots(2, 1, figsize=(7.7*1.3*cm,10*cm), height_ratios=(2,1.2))\n",
    "        \n",
    "\n",
    "        label_positions = []\n",
    "        labels = []\n",
    "        for subgroup in ['all', 'dementia', 'control']:\n",
    "            for i, version in enumerate(combined.version.drop_duplicates()):\n",
    "                base_position = i*3.5\n",
    "                if subgroup == 'all':\n",
    "                    values = combined.query(f\"version == '{version}'\").WER\n",
    "                    position = base_position\n",
    "                    boxprops = dict(facecolor='#fff')\n",
    "                    label_positions.append(base_position + 1)\n",
    "                    labels.append(version.replace(\"_adress\", \"\").replace(\"wave2vec2\", 'Wave2vec2').replace(\"google\", 'Google\\nSpeech').replace(\"whisper\", 'Whisper'))\n",
    "                elif subgroup == 'dementia':\n",
    "                    values = combined.query(f\"version == '{version}' and Label == '1'\").WER\n",
    "                    position = base_position + 1\n",
    "                    boxprops = dict(facecolor='#ccc')\n",
    "                elif subgroup == 'control':\n",
    "                    values = combined.query(f\"version == '{version}' and Label == '0'\").WER\n",
    "                    position = base_position + 2\n",
    "                    boxprops = dict(facecolor='#888')\n",
    "                ax1.boxplot(values, sym=\"\", positions=[position], vert=False, widths=0.7, boxprops=boxprops, medianprops=dict(color='#000'), patch_artist=True)\n",
    "                \n",
    "        # custom legend\n",
    "        all = mpatches.Patch(facecolor='#fff', edgecolor='#000', label='All data')\n",
    "        dementia = mpatches.Patch(facecolor='#ccc', edgecolor='#000', label='AD')\n",
    "        control = mpatches.Patch(facecolor='#888', edgecolor='#000', label='Control')\n",
    "        ax1.legend(handles=[all, dementia, control], fontsize=10, ncol=3, loc='upper center', bbox_to_anchor=(0.4,1.2), columnspacing=0.5, frameon=False, handletextpad=0.3)\n",
    "\n",
    "        ax1.set_yticks(label_positions, labels)#, rotation=45, ha='right', rotation_mode='anchor')\n",
    "        ax1.set_xticks([0, .25, .5, .75, 1, 1.25])\n",
    "        ax1.set_xlim([0,1.3])\n",
    "        ax1.set_xlabel(\"WER\")\n",
    "\n",
    "\n",
    "        \n",
    "        labels = []\n",
    "        label_positions = []\n",
    "        for i, version in enumerate(combined.version.drop_duplicates()):\n",
    "            base_position = i\n",
    "            values = combined.query(f\"version == '{version}'\").WER\n",
    "            position = base_position\n",
    "            boxprops = dict(facecolor='#fff')\n",
    "            label_positions.append(position)\n",
    "            labels.append(version.replace(\"_adress\", \"\").replace(\"wave2vec2\", 'Wave2vec2').replace(\"google\", 'GoogleSpeech').replace(\"whisper\", 'Whisper'))\n",
    "            ax2.boxplot(values, sym=\"\", positions=[position], vert=False, widths=0.7, boxprops=boxprops, medianprops=dict(color='#000'), patch_artist=True)\n",
    "        values = combined.query(f\"Label == '1'\").WER\n",
    "        position = base_position + 2\n",
    "        label_positions.append(position)\n",
    "        labels.append(\"AD\")\n",
    "        boxprops = dict(facecolor='#ccc')\n",
    "        ax2.boxplot(values, sym=\"\", positions=[position], vert=False, widths=0.7, boxprops=boxprops, medianprops=dict(color='#000'), patch_artist=True)\n",
    "        values = combined.query(f\"Label == '0'\").WER\n",
    "        position = base_position + 3\n",
    "        label_positions.append(position)\n",
    "        labels.append(\"Control\")\n",
    "        boxprops = dict(facecolor='#888')\n",
    "        ax2.boxplot(values, sym=\"\", positions=[position], vert=False, widths=0.7, boxprops=boxprops, medianprops=dict(color='#000'), patch_artist=True)\n",
    "        \n",
    "        ax2.set_yticks(label_positions, labels, linespacing=1)#, rotation=45, ha='right', rotation_mode='anchor')\n",
    "        ax2.set_xlim([0,1.3])\n",
    "        ax2.set_xticks([0, .25, .5, .75, 1, 1.25])\n",
    "        ax2.set_xlabel(\"WER\")\n",
    "\n",
    "        plt.tight_layout(pad=1)\n",
    "\n",
    "\n",
    "        # combinations of significance levels, see below\n",
    "        significance_combinations = [\n",
    "            {'label1': 'GoogleSpeech', 'label2': 'Whisper', 'pval': 3.662094e-02},\n",
    "            {'label1': 'GoogleSpeech', 'label2': 'Wave2vec2', 'pval': 4.070221e-27},\n",
    "            {'label1': 'AD', 'label2': 'Control', 'pval': 1.335560e-03},\n",
    "            {'label1': 'Whisper', 'label2': 'Wave2vec2', 'pval': 6.259286e-38, 'x_offset': 0.13},\n",
    "        ]\n",
    "        \n",
    "        \n",
    "        # Significance bars\n",
    "        for i, significant_combination in enumerate(significance_combinations):\n",
    "            label1, label2, pval = significant_combination['label1'], significant_combination['label2'], significant_combination['pval']\n",
    "            y1 = label_positions[labels.index(significant_combination['label1'])]\n",
    "            y2 = label_positions[labels.index(significant_combination['label2'])]\n",
    "            y1, y2 = min(y1, y2), max(y1, y2)\n",
    "            \n",
    "            if y1 == 1:\n",
    "                y1 = y1 + 0.1\n",
    "            elif y2 == 1:\n",
    "                y2 = y2 - 0.1\n",
    "            \n",
    "            # Significance level\n",
    "            if pval < 0.001:\n",
    "                sig_symbol = '***'\n",
    "            elif pval < 0.01:\n",
    "                sig_symbol = '**'\n",
    "            elif pval < 0.05:\n",
    "                sig_symbol = '*'\n",
    "\n",
    "            x_position = 1.2\n",
    "            if y2 <= 3:\n",
    "                x_position = 1.05\n",
    "            if 'x_offset' in significant_combination:\n",
    "                x_position += significant_combination['x_offset']\n",
    "            \n",
    "            ax2.text(x_position+0.03,(y1+y2)/2-0.25, sig_symbol, ha='left', va='center')\n",
    "            ax2.plot([x_position, x_position+0.02, x_position+0.02, x_position], [y1, y1, y2, y2], c=\"black\")\n",
    "\n",
    "    \n",
    "                            \n",
    "\n",
    "\n",
    "        plt.savefig(f\"plots/ASR_WER_with_subgroups_and_significance.pdf\")\n",
    "        plt.show()\n",
    "\n",
    "plot_metrics_for_paper3(combined)"
   ],
   "metadata": {
    "collapsed": false,
    "ExecuteTime": {
     "end_time": "2024-03-08T09:18:57.910394Z",
     "start_time": "2024-03-08T09:18:57.737298Z"
    }
   },
   "execution_count": 189
  },
  {
   "cell_type": "code",
   "execution_count": 177,
   "outputs": [
    {
     "data": {
      "text/plain": "               mean    median\nversion                      \ngoogle     0.444228  0.368993\nwave2vec2  0.568781  0.544004\nwhisper    0.420091  0.346009",
      "text/html": "<div>\n<style scoped>\n    .dataframe tbody tr th:only-of-type {\n        vertical-align: middle;\n    }\n\n    .dataframe tbody tr th {\n        vertical-align: top;\n    }\n\n    .dataframe thead th {\n        text-align: right;\n    }\n</style>\n<table border=\"1\" class=\"dataframe\">\n  <thead>\n    <tr style=\"text-align: right;\">\n      <th></th>\n      <th>mean</th>\n      <th>median</th>\n    </tr>\n    <tr>\n      <th>version</th>\n      <th></th>\n      <th></th>\n    </tr>\n  </thead>\n  <tbody>\n    <tr>\n      <th>google</th>\n      <td>0.444228</td>\n      <td>0.368993</td>\n    </tr>\n    <tr>\n      <th>wave2vec2</th>\n      <td>0.568781</td>\n      <td>0.544004</td>\n    </tr>\n    <tr>\n      <th>whisper</th>\n      <td>0.420091</td>\n      <td>0.346009</td>\n    </tr>\n  </tbody>\n</table>\n</div>"
     },
     "execution_count": 177,
     "metadata": {},
     "output_type": "execute_result"
    }
   ],
   "source": [
    "combined.groupby('version').WER.agg(['mean', 'median'])"
   ],
   "metadata": {
    "collapsed": false,
    "ExecuteTime": {
     "end_time": "2024-03-08T09:15:49.943610Z",
     "start_time": "2024-03-08T09:15:49.929233Z"
    }
   }
  },
  {
   "cell_type": "markdown",
   "source": [
    "## Statistical testing of significance"
   ],
   "metadata": {
    "collapsed": false
   }
  },
  {
   "cell_type": "code",
   "execution_count": 184,
   "outputs": [
    {
     "name": "stdout",
     "output_type": "stream",
     "text": [
      "           Mixed Linear Model Regression Results\n",
      "===========================================================\n",
      "Model:               MixedLM  Dependent Variable:  WER     \n",
      "No. Observations:    468      Method:              REML    \n",
      "No. Groups:          156      Scale:               0.0104  \n",
      "Min. group size:     3        Log-Likelihood:      174.3157\n",
      "Max. group size:     3        Converged:           Yes     \n",
      "Mean group size:     3.0                                   \n",
      "-----------------------------------------------------------\n",
      "                 Coef.  Std.Err.   z    P>|z| [0.025 0.975]\n",
      "-----------------------------------------------------------\n",
      "Intercept         0.633    0.185  3.412 0.001  0.269  0.996\n",
      "ASR[T.wave2vec2]  0.125    0.012 10.785 0.000  0.102  0.147\n",
      "ASR[T.whisper]   -0.024    0.012 -2.090 0.037 -0.047 -0.002\n",
      "gender[T.1]       0.012    0.037  0.320 0.749 -0.061  0.085\n",
      "Label[T.1]        0.118    0.037  3.208 0.001  0.046  0.191\n",
      "age              -0.004    0.003 -1.387 0.166 -0.009  0.002\n",
      "Group Var         0.050    0.073                           \n",
      "===========================================================\n"
     ]
    }
   ],
   "source": [
    "#  Generalized linear mixed-effect model to test for statistical effects of ASR system, diagnosis (AD: label = 1, Control: label = 0).\n",
    "\n",
    "import statsmodels.formula.api as smf\n",
    "md = smf.mixedlm(\"WER ~ ASR + age + gender + Label\", combined.rename(columns={\"version\":\"ASR\"}),\n",
    "                 groups=combined[\"sample_name\"])\n",
    "mdf = md.fit(method=[\"lbfgs\"])\n",
    "print(mdf.summary())\n"
   ],
   "metadata": {
    "collapsed": false,
    "ExecuteTime": {
     "end_time": "2024-03-08T09:17:07.923758Z",
     "start_time": "2024-03-08T09:17:07.601665Z"
    }
   }
  },
  {
   "cell_type": "code",
   "outputs": [
    {
     "data": {
      "text/plain": "Intercept           1.030060e-03\nASR[T.google]       3.662094e-02\nASR[T.wave2vec2]    6.259286e-38\nLabel[T.1]          1.335560e-03\nage                 1.655365e-01\ngender              7.493160e-01\nGroup Var           2.465504e-11\ndtype: float64"
     },
     "execution_count": 183,
     "metadata": {},
     "output_type": "execute_result"
    }
   ],
   "source": [
    "mdf.pvalues"
   ],
   "metadata": {
    "collapsed": false,
    "ExecuteTime": {
     "end_time": "2024-03-08T09:16:57.632229Z",
     "start_time": "2024-03-08T09:16:57.608640Z"
    }
   },
   "execution_count": 183
  },
  {
   "cell_type": "code",
   "execution_count": 23,
   "outputs": [],
   "source": [
    "# so yes, label seems to have a significant effect overall"
   ],
   "metadata": {
    "collapsed": false,
    "ExecuteTime": {
     "end_time": "2024-03-06T09:25:45.541180Z",
     "start_time": "2024-03-06T09:25:45.538469Z"
    }
   }
  },
  {
   "cell_type": "code",
   "execution_count": 24,
   "outputs": [
    {
     "name": "stdout",
     "output_type": "stream",
     "text": [
      "                Anova\n",
      "======================================\n",
      "        F Value Num DF  Den DF  Pr > F\n",
      "--------------------------------------\n",
      "version 95.4769 2.0000 310.0000 0.0000\n",
      "======================================\n"
     ]
    }
   ],
   "source": [
    "# let's see overall if the models are significantly different, using a paired test for three groups = one-way repeated measures ANOVA\n",
    "from statsmodels.stats import anova\n",
    "\n",
    "md = anova.AnovaRM(combined, depvar='WER', subject='sample_name', within=['version'])#, between=[\"age\"])\n",
    "mdf = md.fit()\n",
    "print(mdf.summary())"
   ],
   "metadata": {
    "collapsed": false,
    "ExecuteTime": {
     "end_time": "2024-03-06T09:25:45.905558Z",
     "start_time": "2024-03-06T09:25:45.796957Z"
    }
   }
  },
  {
   "cell_type": "code",
   "execution_count": null,
   "outputs": [],
   "source": [
    "# yes, very significant!"
   ],
   "metadata": {
    "collapsed": false
   }
  }
 ],
 "metadata": {
  "kernelspec": {
   "display_name": "Python 3",
   "language": "python",
   "name": "python3"
  },
  "language_info": {
   "codemirror_mode": {
    "name": "ipython",
    "version": 2
   },
   "file_extension": ".py",
   "mimetype": "text/x-python",
   "name": "python",
   "nbconvert_exporter": "python",
   "pygments_lexer": "ipython2",
   "version": "2.7.6"
  }
 },
 "nbformat": 4,
 "nbformat_minor": 0
}
